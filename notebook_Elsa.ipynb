{
 "cells": [
  {
   "cell_type": "markdown",
   "metadata": {},
   "source": [
    "import libraries"
   ]
  },
  {
   "cell_type": "code",
   "execution_count": 27,
   "metadata": {},
   "outputs": [],
   "source": [
    "import requests\n",
    "from bs4 import BeautifulSoup\n",
    "import pandas as pd \n"
   ]
  },
  {
   "cell_type": "code",
   "execution_count": 28,
   "metadata": {},
   "outputs": [],
   "source": [
    "# placeholder for data extraction\n",
    "\n",
    "mydata=[]\n",
    "\n",
    "# header to prevent bot detection\n",
    "headers = {\n",
    "    'User-Agent': 'Mozilla/5.0 (Windows NT 10.0; Win64; x64) AppleWebKit/537.36 (KHTML, like Gecko) Chrome/85.0.4183.121 Safari/537.36'\n",
    "}"
   ]
  },
  {
   "cell_type": "code",
   "execution_count": 29,
   "metadata": {},
   "outputs": [],
   "source": [
    "# function to scrape pages\n",
    "\n",
    "def scrape_page(url):\n",
    "    response=requests.get(url, headers=headers)\n",
    "    soup=BeautifulSoup(response.text,\"html.parser\")\n",
    "\n",
    "    # extract each listing\n",
    "\n",
    "    listings=soup.find_all('div', class_='text-block') \n",
    "  \n",
    "    for listing in listings:\n",
    "     \n",
    "        try:\n",
    "            #extract the necessary information from each listening\n",
    "            locality = listing.find('span', class_='overview__text').text.strip()\n",
    "            print(locality)\n",
    "            property_type = \"Apartment\"\n",
    "            subtype = listing.find('span', class_='overview__text').text.strip()\n",
    "            #clean price\n",
    "            price = listing.find('span', class_='overview__text').text.strip().replace('€', '').replace('.', '').replace(',', '').strip()\n",
    "            type_of_sale = \"For Sale\"\n",
    "            rooms = listing.find('span', class_='overview__text').text.strip()\n",
    "            living_area = listing.find('span', class_='overview__text').text.strip().replace('m²', '').strip()\n",
    "            kitchen = listing.find('span', class_='overview__text').text.strip()\n",
    "            furnished = listing.find('span', class_='overview__text').text.strip()\n",
    "            open_fire = listing.find('span', class_='overview__text').text.strip()\n",
    "            terrace = listing.find('span', class_='overview__text').text.strip()\n",
    "            garden = listing.find('span', class_='overview__text').text.strip()\n",
    "            surface_land = listing.find('span', class_='overview__text').text.strip()\n",
    "            surface_area_plot_land =listing.find('span', class_='overview__text').text.strip()\n",
    "            number_of_facades =listing.find('span', class_='overview__text').text.strip()\n",
    "            swimming_pool = listing.find('span', class_='overview__text').text.strip()\n",
    "            state_of_building = listing.find('span', class_='overview__text').text.strip()\n",
    "\n",
    "            # Append the extracted data\n",
    "            mydata.append({\n",
    "                \"Locality\": locality,\n",
    "                \"Type of property\": property_type,\n",
    "                \"Subtype of property\": subtype,\n",
    "                \"Price\": price,\n",
    "                \"Type of sale\": type_of_sale,\n",
    "                \"Number of rooms\": int(rooms) if rooms.isdigit() else None,\n",
    "                \"Living Area\": int(living_area) if living_area.isdigit() else None,\n",
    "                \"Fully equipped kitchen\": 1 if 'equipped' in kitchen.lower() else 0,\n",
    "                \"Furnished\": 1 if 'furnished' in furnished.lower() else 0,\n",
    "                \"Open fire\": 1 if 'yes' in open_fire.lower() else 0,\n",
    "                \"Terrace\": 1 if 'yes' in terrace.lower() else 0,\n",
    "                \"Garden\": 1 if 'yes' in garden.lower() else 0,\n",
    "                \"Surface of land\": surface_land,\n",
    "                \"Surface area plot of land\": surface_area_plot_land,\n",
    "                \"Number of facades\": number_of_facades,\n",
    "                \"Swimming pool\": 1 if 'yes' in swimming_pool.lower() else 0,\n",
    "                \"State of the building\": state_of_building\n",
    "            })\n",
    "        except AttributeError:\n",
    "            continue\n",
    "\n",
    "for page in range (1,10):\n",
    "    url=f'https://www.immoweb.be/en/search/apartment/for-sale?countries=BE&page={page}&orderBy=relevance'\n",
    "    scrape_page(url)\n",
    "\n",
    "\n",
    "# now let's convert into dataframe and let's save as CSV file\n",
    "\n",
    "df=pd.DataFrame(mydata)\n",
    "df.to_csv('proporties-dateset.csv', index=False)"
   ]
  },
  {
   "cell_type": "markdown",
   "metadata": {},
   "source": [
    "#Adding Concurrency for Faster Scraping\n"
   ]
  },
  {
   "cell_type": "code",
   "execution_count": null,
   "metadata": {},
   "outputs": [],
   "source": [
    "from concurrent.futures import ThreadPoolExecutor\n",
    "\n",
    "def scrape_multiple_pages(strating_page, ending_page):\n",
    "    with ThreadPoolExecutor(max_workers=5) as executor:\n",
    "        urls = [f'https://www.immoweb.be/en/search/apartment/for-sale?countries=BE&page={page}&orderBy=relevance' for page in range(strating_page, ending_page + 1)]\n",
    "        executor.map(scrape_page, urls)\n",
    "\n",
    "\n",
    "scrape_multiple_pages(1,10) #adjust the range 10,000 listings\n"
   ]
  }
 ],
 "metadata": {
  "kernelspec": {
   "display_name": "base",
   "language": "python",
   "name": "python3"
  },
  "language_info": {
   "codemirror_mode": {
    "name": "ipython",
    "version": 3
   },
   "file_extension": ".py",
   "mimetype": "text/x-python",
   "name": "python",
   "nbconvert_exporter": "python",
   "pygments_lexer": "ipython3",
   "version": "3.12.4"
  }
 },
 "nbformat": 4,
 "nbformat_minor": 2
}
