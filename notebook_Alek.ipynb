{
 "cells": [
  {
   "cell_type": "code",
   "execution_count": 57,
   "metadata": {},
   "outputs": [],
   "source": [
    "import requests\n",
    "from bs4 import BeautifulSoup as bs\n",
    "from selenium import webdriver\n",
    "from selenium.webdriver.chrome.service import Service\n",
    "from selenium.webdriver.common.by import By\n",
    "from selenium.webdriver.support.ui import WebDriverWait\n",
    "from selenium.webdriver.support import expected_conditions as EC\n",
    "from selenium.webdriver.common.keys import Keys\n",
    "import time"
   ]
  },
  {
   "cell_type": "code",
   "execution_count": 37,
   "metadata": {},
   "outputs": [
    {
     "ename": "TimeoutException",
     "evalue": "Message: \nStacktrace:\n\tGetHandleVerifier [0x00007FF7754F38A5+3004357]\n\t(No symbol) [0x00007FF775189970]\n\t(No symbol) [0x00007FF77503582A]\n\t(No symbol) [0x00007FF775085B8E]\n\t(No symbol) [0x00007FF775085E7C]\n\t(No symbol) [0x00007FF7750CEC27]\n\t(No symbol) [0x00007FF7750ABC1F]\n\t(No symbol) [0x00007FF7750CBA4C]\n\t(No symbol) [0x00007FF7750AB983]\n\t(No symbol) [0x00007FF775077628]\n\t(No symbol) [0x00007FF775078791]\n\tGetHandleVerifier [0x00007FF77551A00D+3161901]\n\tGetHandleVerifier [0x00007FF77556E060+3506048]\n\tGetHandleVerifier [0x00007FF77556400D+3465005]\n\tGetHandleVerifier [0x00007FF7752E0EEB+830987]\n\t(No symbol) [0x00007FF77519467F]\n\t(No symbol) [0x00007FF7751909D4]\n\t(No symbol) [0x00007FF775190B6D]\n\t(No symbol) [0x00007FF775180149]\n\tBaseThreadInitThunk [0x00007FF80B2D257D+29]\n\tRtlUserThreadStart [0x00007FF80C9EAF08+40]\n",
     "output_type": "error",
     "traceback": [
      "\u001b[1;31m---------------------------------------------------------------------------\u001b[0m",
      "\u001b[1;31mTimeoutException\u001b[0m                          Traceback (most recent call last)",
      "Cell \u001b[1;32mIn[37], line 9\u001b[0m\n\u001b[0;32m      5\u001b[0m main_url \u001b[38;5;241m=\u001b[39m \u001b[38;5;124m\"\u001b[39m\u001b[38;5;124mhttps://www.immoweb.be/en\u001b[39m\u001b[38;5;124m\"\u001b[39m\n\u001b[0;32m      7\u001b[0m driver\u001b[38;5;241m.\u001b[39mget(main_url)\n\u001b[1;32m----> 9\u001b[0m \u001b[43mWebDriverWait\u001b[49m\u001b[43m(\u001b[49m\u001b[43mdriver\u001b[49m\u001b[43m,\u001b[49m\u001b[43m \u001b[49m\u001b[38;5;241;43m15\u001b[39;49m\u001b[43m)\u001b[49m\u001b[38;5;241;43m.\u001b[39;49m\u001b[43muntil\u001b[49m\u001b[43m(\u001b[49m\n\u001b[0;32m     10\u001b[0m \u001b[43m    \u001b[49m\u001b[43mEC\u001b[49m\u001b[38;5;241;43m.\u001b[39;49m\u001b[43melement_to_be_clickable\u001b[49m\u001b[43m(\u001b[49m\u001b[43m(\u001b[49m\u001b[43mBy\u001b[49m\u001b[38;5;241;43m.\u001b[39;49m\u001b[43mXPATH\u001b[49m\u001b[43m,\u001b[49m\u001b[43m \u001b[49m\u001b[38;5;124;43m'\u001b[39;49m\u001b[38;5;124;43m//button[@data-test-id=\u001b[39;49m\u001b[38;5;124;43m\"\u001b[39;49m\u001b[38;5;124;43muc-accept-all-button\u001b[39;49m\u001b[38;5;124;43m\"\u001b[39;49m\u001b[38;5;124;43m]\u001b[39;49m\u001b[38;5;124;43m'\u001b[39;49m\u001b[43m)\u001b[49m\u001b[43m)\u001b[49m\n\u001b[0;32m     11\u001b[0m \u001b[43m)\u001b[49m\n\u001b[0;32m     13\u001b[0m accept_button \u001b[38;5;241m=\u001b[39m driver\u001b[38;5;241m.\u001b[39mfind_element(By\u001b[38;5;241m.\u001b[39mXPATH, \u001b[38;5;124m'\u001b[39m\u001b[38;5;124m//button[@data-test-id=\u001b[39m\u001b[38;5;124m\"\u001b[39m\u001b[38;5;124muc-accept-all-button\u001b[39m\u001b[38;5;124m\"\u001b[39m\u001b[38;5;124m]\u001b[39m\u001b[38;5;124m'\u001b[39m)\n\u001b[0;32m     15\u001b[0m accept_button\u001b[38;5;241m.\u001b[39mclick()\n",
      "File \u001b[1;32mc:\\Python311\\Lib\\site-packages\\selenium\\webdriver\\support\\wait.py:105\u001b[0m, in \u001b[0;36mWebDriverWait.until\u001b[1;34m(self, method, message)\u001b[0m\n\u001b[0;32m    103\u001b[0m         \u001b[38;5;28;01mbreak\u001b[39;00m\n\u001b[0;32m    104\u001b[0m     time\u001b[38;5;241m.\u001b[39msleep(\u001b[38;5;28mself\u001b[39m\u001b[38;5;241m.\u001b[39m_poll)\n\u001b[1;32m--> 105\u001b[0m \u001b[38;5;28;01mraise\u001b[39;00m TimeoutException(message, screen, stacktrace)\n",
      "\u001b[1;31mTimeoutException\u001b[0m: Message: \nStacktrace:\n\tGetHandleVerifier [0x00007FF7754F38A5+3004357]\n\t(No symbol) [0x00007FF775189970]\n\t(No symbol) [0x00007FF77503582A]\n\t(No symbol) [0x00007FF775085B8E]\n\t(No symbol) [0x00007FF775085E7C]\n\t(No symbol) [0x00007FF7750CEC27]\n\t(No symbol) [0x00007FF7750ABC1F]\n\t(No symbol) [0x00007FF7750CBA4C]\n\t(No symbol) [0x00007FF7750AB983]\n\t(No symbol) [0x00007FF775077628]\n\t(No symbol) [0x00007FF775078791]\n\tGetHandleVerifier [0x00007FF77551A00D+3161901]\n\tGetHandleVerifier [0x00007FF77556E060+3506048]\n\tGetHandleVerifier [0x00007FF77556400D+3465005]\n\tGetHandleVerifier [0x00007FF7752E0EEB+830987]\n\t(No symbol) [0x00007FF77519467F]\n\t(No symbol) [0x00007FF7751909D4]\n\t(No symbol) [0x00007FF775190B6D]\n\t(No symbol) [0x00007FF775180149]\n\tBaseThreadInitThunk [0x00007FF80B2D257D+29]\n\tRtlUserThreadStart [0x00007FF80C9EAF08+40]\n"
     ]
    }
   ],
   "source": [
    "service = Service(executable_path=\"chromedriver.exe\")\n",
    "\n",
    "driver = webdriver.Chrome(service=service)\n",
    "\n",
    "main_url = \"https://www.immoweb.be/en\"\n",
    "\n",
    "driver.get(main_url)\n",
    "\n",
    "WebDriverWait(driver, 15).until(\n",
    "    EC.element_to_be_clickable((By.XPATH, '//button[@data-test-id=\"uc-accept-all-button\"]'))\n",
    ")\n",
    "\n",
    "accept_button = driver.find_element(By.XPATH, '//button[@data-test-id=\"uc-accept-all-button\"]')\n",
    "\n",
    "accept_button.click()\n",
    "\n",
    "#driver.quit()"
   ]
  },
  {
   "cell_type": "code",
   "execution_count": 70,
   "metadata": {},
   "outputs": [],
   "source": [
    "#  //*[@id=\"uc-center-container\"]/div[2]/div/div[1]/div/button[2]  //button[@data-test-id=\"uc-accept-all-button\"] By.XPATH, '//button[@data-test-id=\"uc-accept-all-button\"]'\n",
    "# #autocomplete-input-4f7d3d32-f52f-4e45-b314-f70ace7a45d3\n",
    "\n",
    "service = Service(executable_path=\"chromedriver.exe\")\n",
    "\n",
    "driver = webdriver.Chrome(service=service)\n",
    "\n",
    "main_url = \"https://www.immoweb.be/en\"\n",
    "\n",
    "driver.implicitly_wait(5)\n",
    "\n",
    "driver.get(main_url)\n",
    "\n",
    "top_div = driver.find_element(By.ID, 'usercentrics-root')\n",
    "shadow_root = top_div.shadow_root\n",
    "confirm_button = shadow_root.find_element(By.CSS_SELECTOR, \"button[data-testid='uc-accept-all-button']\")\n",
    "\n",
    "confirm_button.click()\n",
    "\n",
    "form = driver.find_element(By.CLASS_NAME, \"multiselect__form\")\n",
    "\n",
    "inputter = form.find_element(By.TAG_NAME, \"input\")\n",
    "\n",
    "submitter = driver.find_element(By.ID, \"searchBoxSubmitButton\")\n",
    "\n",
    "inputter.send_keys(\"1000\")\n",
    "time.sleep(0.3)\n",
    "inputter.send_keys(Keys.ARROW_DOWN)\n",
    "time.sleep(0.3)\n",
    "inputter.send_keys(Keys.ENTER)\n",
    "time.sleep(0.5)\n",
    "\n",
    "#submitter.click()\n",
    "\n",
    "#inputter = driver.find_element(By.ID, 'autocomplete-input-4f7d3d32-f52f-4e45-b314-f70ace7a45d3')\n",
    "\n",
    "#inputter.send_keys(\"1000\") #homepage-tab-buy > div > form > div.searchbox__container > div > div > form > div > div.multiselect__form\n",
    "\n",
    "##searchBoxSubmitButton\n",
    "\n",
    "\n",
    "\n"
   ]
  },
  {
   "cell_type": "code",
   "execution_count": 81,
   "metadata": {},
   "outputs": [],
   "source": [
    "first_search = \"https://www.immoweb.be/en/search/house-and-apartment/for-sale/brussels-city/1000?countries=BE&page=1&orderBy=relevance\"\n",
    "\n",
    "service = Service(executable_path=\"chromedriver.exe\")\n",
    "\n",
    "driver = webdriver.Chrome(service=service)\n",
    "\n",
    "driver.implicitly_wait(5)\n",
    "\n",
    "driver.get(first_search)\n",
    "\n",
    "driver.maximize_window()\n",
    "\n",
    "top_div = driver.find_element(By.ID, 'usercentrics-root')\n",
    "shadow_root = top_div.shadow_root\n",
    "confirm_button = shadow_root.find_element(By.CSS_SELECTOR, \"button[data-testid='uc-accept-all-button']\")\n",
    "\n",
    "confirm_button.click()\n",
    "\n",
    "form = driver.find_element(By.CLASS_NAME, \"multiselect__form\")\n",
    "\n",
    "inputter = form.find_element(By.TAG_NAME, \"input\")\n",
    "\n",
    "remove_button = form.find_element(By.TAG_NAME, \"button\")\n",
    "\n",
    "remove_button.click()\n",
    "\n",
    "inputter.send_keys(\"1210\")\n",
    "time.sleep(0.3)\n",
    "inputter.send_keys(Keys.ARROW_DOWN)\n",
    "time.sleep(0.3)\n",
    "inputter.send_keys(Keys.ENTER)\n",
    "\n",
    "\n"
   ]
  },
  {
   "cell_type": "code",
   "execution_count": null,
   "metadata": {},
   "outputs": [],
   "source": [
    "inputter.send_keys(\"1210\")\n",
    "time.sleep(0.3)\n",
    "inputter.send_keys(Keys.ARROW_DOWN)\n",
    "time.sleep(0.3)\n",
    "inputter.send_keys(Keys.ENTER)"
   ]
  }
 ],
 "metadata": {
  "kernelspec": {
   "display_name": "Python 3",
   "language": "python",
   "name": "python3"
  },
  "language_info": {
   "codemirror_mode": {
    "name": "ipython",
    "version": 3
   },
   "file_extension": ".py",
   "mimetype": "text/x-python",
   "name": "python",
   "nbconvert_exporter": "python",
   "pygments_lexer": "ipython3",
   "version": "3.11.0"
  }
 },
 "nbformat": 4,
 "nbformat_minor": 2
}
