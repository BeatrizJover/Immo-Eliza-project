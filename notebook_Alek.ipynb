{
 "cells": [
  {
   "cell_type": "code",
   "execution_count": 2,
   "metadata": {},
   "outputs": [],
   "source": [
    "import re\n",
    "from bs4 import BeautifulSoup as bs\n",
    "from selenium import webdriver\n",
    "from selenium.webdriver.chrome.service import Service\n",
    "from selenium.webdriver.common.by import By\n",
    "from selenium.webdriver.support.ui import WebDriverWait\n",
    "from selenium.webdriver.support import expected_conditions as EC\n",
    "from selenium.webdriver.common.keys import Keys\n",
    "import time"
   ]
  },
  {
   "cell_type": "code",
   "execution_count": 6,
   "metadata": {},
   "outputs": [],
   "source": [
    "first_search = \"https://www.immoweb.be/en/search/house-and-apartment/for-sale/brussels-city/1000?countries=BE&page=1&orderBy=relevance\"\n",
    "\n",
    "service = Service(executable_path=\"chromedriver_win.exe\")\n",
    "\n",
    "driver = webdriver.Chrome(service=service)\n",
    "\n",
    "driver.implicitly_wait(5)\n",
    "\n",
    "driver.get(first_search)\n",
    "\n",
    "driver.maximize_window()\n",
    "\n",
    "top_div = driver.find_element(By.ID, 'usercentrics-root')\n",
    "shadow_root = top_div.shadow_root\n",
    "confirm_button = shadow_root.find_element(By.CSS_SELECTOR, \"button[data-testid='uc-accept-all-button']\")\n",
    "\n",
    "confirm_button.click()\n",
    "\n",
    "form = driver.find_element(By.CLASS_NAME, \"multiselect__form\")\n",
    "\n",
    "inputter = form.find_element(By.TAG_NAME, \"input\")\n",
    "\n",
    "remove_button = form.find_element(By.TAG_NAME, \"button\")\n",
    "\n",
    "remove_button.click()\n",
    "\n",
    "inputter.send_keys(\"1210\")\n",
    "time.sleep(0.3)\n",
    "inputter.send_keys(Keys.ARROW_DOWN)\n",
    "time.sleep(0.3)\n",
    "inputter.send_keys(Keys.ENTER)\n",
    "\n",
    "\n"
   ]
  },
  {
   "cell_type": "code",
   "execution_count": 3,
   "metadata": {},
   "outputs": [],
   "source": [
    "first_url = \"https://www.immoweb.be/en/search/house-and-apartment/for-sale/brussels-city/1000?countries=BE&page=1&orderBy=relevance\""
   ]
  },
  {
   "cell_type": "code",
   "execution_count": 10,
   "metadata": {},
   "outputs": [],
   "source": [
    "def init_driver(start_url):\n",
    "    service = Service(executable_path=\"chromedriver_win.exe\")\n",
    "\n",
    "    driver = webdriver.Chrome(service=service)\n",
    "\n",
    "    driver.implicitly_wait(5)\n",
    "\n",
    "    driver.get(start_url)\n",
    "\n",
    "    driver.maximize_window()\n",
    "\n",
    "    top_div = driver.find_element(By.ID, 'usercentrics-root')\n",
    "    shadow_root = top_div.shadow_root\n",
    "    confirm_button = shadow_root.find_element(By.CSS_SELECTOR, \"button[data-testid='uc-accept-all-button']\")\n",
    "\n",
    "    confirm_button.click()\n",
    "\n",
    "init_driver(first_url)"
   ]
  },
  {
   "cell_type": "code",
   "execution_count": null,
   "metadata": {},
   "outputs": [],
   "source": [
    "inputter.send_keys(\"1210\")\n",
    "time.sleep(0.3)\n",
    "inputter.send_keys(Keys.ARROW_DOWN)\n",
    "time.sleep(0.3)\n",
    "inputter.send_keys(Keys.ENTER)"
   ]
  },
  {
   "cell_type": "code",
   "execution_count": 2,
   "metadata": {},
   "outputs": [],
   "source": [
    "test_url = \"https://www.immoweb.be/en/search/apartment/for-sale/st-josse-ten-noode/1210?countries=BE&priceType=SALE_PRICE&page=1&orderBy=relevance\"\n",
    "\n",
    "service = Service(executable_path=\"chromedriver_win.exe\")\n",
    "\n",
    "driver = webdriver.Chrome(service=service)\n",
    "\n",
    "driver.implicitly_wait(5)\n",
    "\n",
    "driver.get(test_url)\n",
    "\n",
    "driver.maximize_window()\n",
    "\n",
    "top_div = driver.find_element(By.ID, 'usercentrics-root')\n",
    "shadow_root = top_div.shadow_root\n",
    "confirm_button = shadow_root.find_element(By.CSS_SELECTOR, \"button[data-testid='uc-accept-all-button']\")\n",
    "\n",
    "confirm_button.click()"
   ]
  },
  {
   "cell_type": "code",
   "execution_count": 3,
   "metadata": {},
   "outputs": [
    {
     "name": "stdout",
     "output_type": "stream",
     "text": [
      "<class 'int'> 4\n"
     ]
    }
   ],
   "source": [
    "search_header = driver.find_element(By.CLASS_NAME, \"search-results__header\")\n",
    "\n",
    "ulist = search_header.find_element(By.CLASS_NAME, \"pagination\")\n",
    "\n",
    "litems = ulist.find_elements(By.TAG_NAME, \"li\")\n",
    "\n",
    "\n",
    "pages_number = int(litems[-2].find_elements(By.TAG_NAME, \"span\")[1].text)\n",
    "print(type(pages_number), pages_number)\n",
    "\n",
    "\n",
    "\n",
    "##searchResults > div:nth-child(3) > div > div.grid > div.grid__item.medium--6.desktop--7.medium--pull--1.result-section--list > div.search-results > div"
   ]
  },
  {
   "cell_type": "code",
   "execution_count": null,
   "metadata": {},
   "outputs": [],
   "source": [
    "main_list = driver.find_element(By.ID, \"main-content\")\n",
    "\n",
    "search_results = main_list.find_elements(By.TAG_NAME, \"li\")\n",
    "\n",
    "test_link = search_results[0].find_element(By.TAG_NAME, \"a\")\n",
    "\n",
    "test_link.click()\n",
    "\n",
    "source_html = driver.page_source\n",
    "\n",
    "\n",
    "\n"
   ]
  },
  {
   "cell_type": "code",
   "execution_count": 4,
   "metadata": {},
   "outputs": [
    {
     "name": "stdout",
     "output_type": "stream",
     "text": [
      "{'Locality': 'St-Josse-Ten-Noode', 'zip_code': 1210, 'type_of_property': 0, 'subtype_of_property': 'Apartment', 'Price': None, 'Building_condition': None, 'Facade_number': None, 'living_area': None, 'Equipped_kitchen': 0, 'bedroom_nr': None, 'swimming_pool': 0, 'furnished': 0, 'open_fire': 0}\n"
     ]
    }
   ],
   "source": [
    "main_list = driver.find_element(By.ID, \"main-content\")\n",
    "\n",
    "search_results = main_list.find_elements(By.TAG_NAME, \"li\")\n",
    "\n",
    "test_link = search_results[0].find_element(By.TAG_NAME, \"a\")\n",
    "\n",
    "real_estate = {'Locality': None, 'zip_code': None, 'type_of_property': 0, 'subtype_of_property': None, 'Price': None, 'Building_condition': None, 'Facade_number': None, 'living_area': None, \n",
    "               'Equipped_kitchen': 0, 'bedroom_nr': None, 'swimming_pool': 0, 'furnished': 0, 'open_fire': 0}\n",
    "real_estate['Locality'] = 'St-Josse-Ten-Noode'\n",
    "real_estate['zip_code'] = 1210\n",
    "real_estate['type_of_property'] = 0\n",
    "real_estate['subtype_of_property'] = test_link.text\n",
    "\n",
    "test_link.click()\n",
    "\n",
    "\n",
    "\n",
    "print(real_estate)\n",
    "\n"
   ]
  },
  {
   "cell_type": "code",
   "execution_count": 11,
   "metadata": {},
   "outputs": [],
   "source": [
    "def immo_page_scrapper(source_html, locality=None, zip_code=None, property_type=0, property_subtype=None):\n",
    "    real_estate = {'locality': locality, 'zip_code': zip_code, 'type_of_property': property_type, 'subtype_of_property': property_subtype, 'Price': None, 'building_condition': None, 'facade_number': None, 'living_area': None, \n",
    "               'equipped_kitchen': 0, 'bedroom_nr': None, 'swimming_pool': 0, 'furnished': 0, 'open_fire': 0, 'Terrace': 0, 'garden': 0, 'plot_surface': None}\n",
    "\n",
    "    soup = bs(source_html, 'html.parser')\n",
    "\n",
    "    second_headers = soup.find_all('h2')\n",
    "\n",
    "    for second_h in second_headers:        \n",
    "        if second_h.string == \"Description\":\n",
    "            print('this is a description')\n",
    "            paragraphs = second_h.parent.find_all('p')\n",
    "            for par in paragraphs:\n",
    "                if \"open fire\" in par.text:\n",
    "                    real_estate['open_fire'] = 1\n",
    "\n",
    "        elif second_h.string == \"General\":            \n",
    "            rows = second_h.parent.parent.find_all('tr')\n",
    "            for row in rows:                \n",
    "                for cell in row.children:\n",
    "                    if \"Building condition\" in cell.text:                        \n",
    "                        real_estate['building_condition'] = (cell.find_next_sibling('td').text.strip())\n",
    "                    elif \"Number of frontages\" in cell.text:                        \n",
    "                        real_estate['facade_number'] = int(cell.find_next_sibling('td').text.strip())\n",
    "\n",
    "        elif second_h.string == \"Interior\":\n",
    "            rows = second_h.parent.parent.find_all('tr')\n",
    "            for row in rows:\n",
    "                for cell in row.children:\n",
    "                    if \"Living area\" in cell.text:\n",
    "                        liv_area = re.findall(\"(\\d+)\", cell.find_next_sibling('td').text)[0]\n",
    "                        real_estate['living_area'] = int(liv_area)\n",
    "                    elif \"Kitchen type\" in cell.text and \"equipped\" in cell.find_next_sibling('td').text:\n",
    "                        real_estate['equipped_kitchen'] = 1\n",
    "                    elif \"Bedrooms\" in cell.text:\n",
    "                        real_estate['bedroom_nr'] = int(cell.find_next_sibling('td').text.strip())\n",
    "                    elif \"Furnished\" in cell.text and \"Yes\" in cell.find_next_sibling('td').text:\n",
    "                        real_estate['Furnished'] = 1\n",
    "\n",
    "        elif second_h.string == \"Exterior\":\n",
    "            rows = second_h.parent.parent.find_all('tr')\n",
    "            for row in rows:\n",
    "                for cell in row.children:\n",
    "                    if \"Surface of the plot\" in cell.text:\n",
    "                        plot_area = re.findall(\"(\\d+)\", cell.find_next_sibling('td').text)[0]\n",
    "                        real_estate['plot_surface'] = plot_area\n",
    "                    elif \"Garden surface\" in cell.text:\n",
    "                        garden_area = re.findall(\"(\\d+)\", cell.find_next_sibling('td').text)[0]\n",
    "                        real_estate['garden'] = garden_area\n",
    "                    elif \"Terrace surface\" in cell.text:\n",
    "                        terrace_area = re.findall(\"(\\d+)\", cell.find_next_sibling('td').text)[0]\n",
    "                        real_estate['Terrace'] = terrace_area\n",
    "\n",
    "        elif second_h.string == \"Facilities\":\n",
    "            rows = second_h.parent.parent.find_all('tr')\n",
    "            for row in rows:\n",
    "                for cell in row.children:\n",
    "                    if \"Swimming pool\" in cell.text and \"Yes\" in cell.find_next_sibling('td').text:\n",
    "                        real_estate['swimming_pool'] = 1\n",
    "                    \n",
    "\n",
    "        elif second_h.string == \"Financial\":\n",
    "            wrap_div = second_h.parent.parent\n",
    "            rows = wrap_div.find_all('tr')\n",
    "            for row in rows:\n",
    "                for cell in row.children:\n",
    "                    if \"Price\" in cell.text:\n",
    "                        expr = re.compile(\"\\d+\\s€\")\n",
    "                        price_strings = re.findall(expr, cell.find_next_sibling('td').text)[0]\n",
    "                        price_int = int(price_strings[:-2])\n",
    "                        real_estate['Price'] = price_int\n",
    "\n",
    "        \n",
    "\n",
    "    return real_estate"
   ]
  },
  {
   "cell_type": "code",
   "execution_count": 12,
   "metadata": {},
   "outputs": [
    {
     "name": "stdout",
     "output_type": "stream",
     "text": [
      "this is a description\n",
      "{'locality': None, 'zip_code': None, 'type_of_property': 0, 'subtype_of_property': None, 'Price': 800000, 'building_condition': 'Good', 'facade_number': 2, 'living_area': 250, 'equipped_kitchen': 1, 'bedroom_nr': 5, 'swimming_pool': 0, 'furnished': 0, 'open_fire': 0, 'Terrace': 0, 'garden': 0, 'plot_surface': '65'}\n"
     ]
    }
   ],
   "source": [
    "test_to_scrap = \"https://www.immoweb.be/en/classified/apartment-block/for-sale/bruxelles/1000/20010594\"\n",
    "\n",
    "service = Service(executable_path=\"chromedriver_win.exe\")\n",
    "\n",
    "driver = webdriver.Chrome(service=service)\n",
    "\n",
    "driver.implicitly_wait(5)\n",
    "\n",
    "driver.get(test_to_scrap)\n",
    "\n",
    "driver.maximize_window()\n",
    "\n",
    "top_div = driver.find_element(By.ID, 'usercentrics-root')\n",
    "shadow_root = top_div.shadow_root\n",
    "confirm_button = shadow_root.find_element(By.CSS_SELECTOR, \"button[data-testid='uc-accept-all-button']\")\n",
    "\n",
    "confirm_button.click()\n",
    "\n",
    "pagina = driver.page_source\n",
    "imo = immo_page_scrapper(pagina)\n",
    "\n",
    "print(imo)"
   ]
  },
  {
   "cell_type": "code",
   "execution_count": null,
   "metadata": {},
   "outputs": [],
   "source": [
    "\"\"\"\n",
    "Locality +\n",
    "Type of property (House/apartment) - binary is House +\n",
    "Subtype of property (Bungalow, Chalet, Mansion, ...) +\n",
    "Price +\n",
    "Type of sale (Exclusion of life sales)\n",
    "Number of rooms +\n",
    "Living Area + \n",
    "Fully equipped kitchen (Yes/No) + \n",
    "Furnished (Yes/No) +\n",
    "Open fire (Yes/No) +\n",
    "Terrace (Yes/No) \n",
    "If yes: Area +\n",
    "Garden (Yes/No) +\n",
    "If yes: Area +\n",
    "Surface of the land (+)\n",
    "Surface area of the plot of land +\n",
    "Number of facades +\n",
    "Swimming pool (Yes/No) +\n",
    "State of the building (New, to be renovated, ...) +\n",
    "\"\"\""
   ]
  }
 ],
 "metadata": {
  "kernelspec": {
   "display_name": "Python 3",
   "language": "python",
   "name": "python3"
  },
  "language_info": {
   "codemirror_mode": {
    "name": "ipython",
    "version": 3
   },
   "file_extension": ".py",
   "mimetype": "text/x-python",
   "name": "python",
   "nbconvert_exporter": "python",
   "pygments_lexer": "ipython3",
   "version": "3.11.0"
  }
 },
 "nbformat": 4,
 "nbformat_minor": 2
}
