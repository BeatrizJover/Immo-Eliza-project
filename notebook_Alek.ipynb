{
 "cells": [
  {
   "cell_type": "code",
   "execution_count": 57,
   "metadata": {},
   "outputs": [],
   "source": [
    "import requests\n",
    "from bs4 import BeautifulSoup as bs\n",
    "from selenium import webdriver\n",
    "from selenium.webdriver.chrome.service import Service\n",
    "from selenium.webdriver.common.by import By\n",
    "from selenium.webdriver.support.ui import WebDriverWait\n",
    "from selenium.webdriver.support import expected_conditions as EC\n",
    "from selenium.webdriver.common.keys import Keys\n",
    "import time"
   ]
  },
  {
   "cell_type": "code",
   "execution_count": 81,
   "metadata": {},
   "outputs": [],
   "source": [
    "first_search = \"https://www.immoweb.be/en/search/house-and-apartment/for-sale/brussels-city/1000?countries=BE&page=1&orderBy=relevance\"\n",
    "\n",
    "service = Service(executable_path=\"chromedriver.exe\")\n",
    "\n",
    "driver = webdriver.Chrome(service=service)\n",
    "\n",
    "driver.implicitly_wait(5)\n",
    "\n",
    "driver.get(first_search)\n",
    "\n",
    "driver.maximize_window()\n",
    "\n",
    "top_div = driver.find_element(By.ID, 'usercentrics-root')\n",
    "shadow_root = top_div.shadow_root\n",
    "confirm_button = shadow_root.find_element(By.CSS_SELECTOR, \"button[data-testid='uc-accept-all-button']\")\n",
    "\n",
    "confirm_button.click()\n",
    "\n",
    "form = driver.find_element(By.CLASS_NAME, \"multiselect__form\")\n",
    "\n",
    "inputter = form.find_element(By.TAG_NAME, \"input\")\n",
    "\n",
    "remove_button = form.find_element(By.TAG_NAME, \"button\")\n",
    "\n",
    "remove_button.click()\n",
    "\n",
    "inputter.send_keys(\"1210\")\n",
    "time.sleep(0.3)\n",
    "inputter.send_keys(Keys.ARROW_DOWN)\n",
    "time.sleep(0.3)\n",
    "inputter.send_keys(Keys.ENTER)\n",
    "\n",
    "\n"
   ]
  },
  {
   "cell_type": "code",
   "execution_count": null,
   "metadata": {},
   "outputs": [],
   "source": [
    "inputter.send_keys(\"1210\")\n",
    "time.sleep(0.3)\n",
    "inputter.send_keys(Keys.ARROW_DOWN)\n",
    "time.sleep(0.3)\n",
    "inputter.send_keys(Keys.ENTER)"
   ]
  }
 ],
 "metadata": {
  "kernelspec": {
   "display_name": "Python 3",
   "language": "python",
   "name": "python3"
  },
  "language_info": {
   "codemirror_mode": {
    "name": "ipython",
    "version": 3
   },
   "file_extension": ".py",
   "mimetype": "text/x-python",
   "name": "python",
   "nbconvert_exporter": "python",
   "pygments_lexer": "ipython3",
   "version": "3.11.0"
  }
 },
 "nbformat": 4,
 "nbformat_minor": 2
}
